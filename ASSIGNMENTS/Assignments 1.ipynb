{
 "cells": [
  {
   "cell_type": "markdown",
   "id": "89e028f6",
   "metadata": {},
   "source": [
    "# Create a MCP based neuron with the help of (Functions  or Class) \n",
    "\n",
    "- Here your activation function should be and,or and your inputs can be in n-dimensional\n",
    "\n",
    "- Your function should work for both and as well as for or\n"
   ]
  },
  {
   "cell_type": "code",
   "execution_count": 9,
   "id": "e003e30e",
   "metadata": {},
   "outputs": [
    {
     "name": "stdout",
     "output_type": "stream",
     "text": [
      "enter the input1 : 9\n",
      "enter the input2 : 8\n",
      "1\n",
      "1\n"
     ]
    }
   ],
   "source": [
    "def and_gate(input1,input2):\n",
    "\n",
    "        g=input1+input2\n",
    "        print(1) if g>=2 else print(0)\n",
    "\n",
    "def or_gate(input1,input2):\n",
    "\n",
    "    g=input1+input2\n",
    "    print(1) if g>=1 else print(0)\n",
    "\n",
    "input1=int(input(\"enter the input1 : \"))\n",
    "input2=int(input(\"enter the input2 : \"))\n",
    "\n",
    "and_gate(input1,input2)\n",
    "or_gate(input1,input2)"
   ]
  },
  {
   "cell_type": "code",
   "execution_count": null,
   "id": "d179ba26",
   "metadata": {},
   "outputs": [],
   "source": []
  }
 ],
 "metadata": {
  "kernelspec": {
   "display_name": "Python 3 (ipykernel)",
   "language": "python",
   "name": "python3"
  },
  "language_info": {
   "codemirror_mode": {
    "name": "ipython",
    "version": 3
   },
   "file_extension": ".py",
   "mimetype": "text/x-python",
   "name": "python",
   "nbconvert_exporter": "python",
   "pygments_lexer": "ipython3",
   "version": "3.9.13"
  }
 },
 "nbformat": 4,
 "nbformat_minor": 5
}
